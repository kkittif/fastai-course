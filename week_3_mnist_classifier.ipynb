{
  "cells": [
    {
      "cell_type": "markdown",
      "id": "fc3ce9fa-d402-42ae-b69d-4c760484e307",
      "metadata": {
        "id": "fc3ce9fa-d402-42ae-b69d-4c760484e307"
      },
      "source": [
        "# Training a digit classifier based on Chapter 4 of the fast.ai book\n",
        "\n",
        "Chapter 4 gives an example for classifying 3s and 7s. Here I will train a model to classify all digits. "
      ]
    },
    {
      "cell_type": "code",
      "execution_count": 255,
      "id": "d3d5230b-74ae-4041-969e-2f91be85340e",
      "metadata": {
        "execution": {
          "iopub.execute_input": "2023-02-06T15:10:30.035764Z",
          "iopub.status.busy": "2023-02-06T15:10:30.035397Z",
          "iopub.status.idle": "2023-02-06T15:10:41.733574Z",
          "shell.execute_reply": "2023-02-06T15:10:41.732562Z",
          "shell.execute_reply.started": "2023-02-06T15:10:30.035693Z"
        },
        "colab": {
          "base_uri": "https://localhost:8080/"
        },
        "id": "d3d5230b-74ae-4041-969e-2f91be85340e",
        "outputId": "f35f314a-818d-4124-908d-b8bdecf62d9c"
      },
      "outputs": [
        {
          "output_type": "stream",
          "name": "stdout",
          "text": [
            "Looking in indexes: https://pypi.org/simple, https://us-python.pkg.dev/colab-wheels/public/simple/\n",
            "Requirement already satisfied: fastai in /usr/local/lib/python3.8/dist-packages (2.7.10)\n",
            "Requirement already satisfied: fastprogress>=0.2.4 in /usr/local/lib/python3.8/dist-packages (from fastai) (1.0.3)\n",
            "Requirement already satisfied: pyyaml in /usr/local/lib/python3.8/dist-packages (from fastai) (6.0)\n",
            "Requirement already satisfied: fastcore<1.6,>=1.4.5 in /usr/local/lib/python3.8/dist-packages (from fastai) (1.5.28)\n",
            "Requirement already satisfied: scipy in /usr/local/lib/python3.8/dist-packages (from fastai) (1.7.3)\n",
            "Requirement already satisfied: packaging in /usr/local/lib/python3.8/dist-packages (from fastai) (23.0)\n",
            "Requirement already satisfied: pandas in /usr/local/lib/python3.8/dist-packages (from fastai) (1.3.5)\n",
            "Requirement already satisfied: torchvision>=0.8.2 in /usr/local/lib/python3.8/dist-packages (from fastai) (0.14.1+cu116)\n",
            "Requirement already satisfied: matplotlib in /usr/local/lib/python3.8/dist-packages (from fastai) (3.2.2)\n",
            "Requirement already satisfied: scikit-learn in /usr/local/lib/python3.8/dist-packages (from fastai) (1.0.2)\n",
            "Requirement already satisfied: requests in /usr/local/lib/python3.8/dist-packages (from fastai) (2.25.1)\n",
            "Requirement already satisfied: torch<1.14,>=1.7 in /usr/local/lib/python3.8/dist-packages (from fastai) (1.13.1+cu116)\n",
            "Requirement already satisfied: spacy<4 in /usr/local/lib/python3.8/dist-packages (from fastai) (3.4.4)\n",
            "Requirement already satisfied: fastdownload<2,>=0.0.5 in /usr/local/lib/python3.8/dist-packages (from fastai) (0.0.7)\n",
            "Requirement already satisfied: pillow>6.0.0 in /usr/local/lib/python3.8/dist-packages (from fastai) (7.1.2)\n",
            "Requirement already satisfied: pip in /usr/local/lib/python3.8/dist-packages (from fastai) (22.0.4)\n",
            "Requirement already satisfied: smart-open<7.0.0,>=5.2.1 in /usr/local/lib/python3.8/dist-packages (from spacy<4->fastai) (6.3.0)\n",
            "Requirement already satisfied: thinc<8.2.0,>=8.1.0 in /usr/local/lib/python3.8/dist-packages (from spacy<4->fastai) (8.1.7)\n",
            "Requirement already satisfied: pathy>=0.3.5 in /usr/local/lib/python3.8/dist-packages (from spacy<4->fastai) (0.10.1)\n",
            "Requirement already satisfied: jinja2 in /usr/local/lib/python3.8/dist-packages (from spacy<4->fastai) (2.11.3)\n",
            "Requirement already satisfied: murmurhash<1.1.0,>=0.28.0 in /usr/local/lib/python3.8/dist-packages (from spacy<4->fastai) (1.0.9)\n",
            "Requirement already satisfied: spacy-legacy<3.1.0,>=3.0.10 in /usr/local/lib/python3.8/dist-packages (from spacy<4->fastai) (3.0.12)\n",
            "Requirement already satisfied: cymem<2.1.0,>=2.0.2 in /usr/local/lib/python3.8/dist-packages (from spacy<4->fastai) (2.0.7)\n",
            "Requirement already satisfied: langcodes<4.0.0,>=3.2.0 in /usr/local/lib/python3.8/dist-packages (from spacy<4->fastai) (3.3.0)\n",
            "Requirement already satisfied: catalogue<2.1.0,>=2.0.6 in /usr/local/lib/python3.8/dist-packages (from spacy<4->fastai) (2.0.8)\n",
            "Requirement already satisfied: numpy>=1.15.0 in /usr/local/lib/python3.8/dist-packages (from spacy<4->fastai) (1.21.6)\n",
            "Requirement already satisfied: wasabi<1.1.0,>=0.9.1 in /usr/local/lib/python3.8/dist-packages (from spacy<4->fastai) (0.10.1)\n",
            "Requirement already satisfied: preshed<3.1.0,>=3.0.2 in /usr/local/lib/python3.8/dist-packages (from spacy<4->fastai) (3.0.8)\n",
            "Requirement already satisfied: pydantic!=1.8,!=1.8.1,<1.11.0,>=1.7.4 in /usr/local/lib/python3.8/dist-packages (from spacy<4->fastai) (1.10.4)\n",
            "Requirement already satisfied: typer<0.8.0,>=0.3.0 in /usr/local/lib/python3.8/dist-packages (from spacy<4->fastai) (0.7.0)\n",
            "Requirement already satisfied: srsly<3.0.0,>=2.4.3 in /usr/local/lib/python3.8/dist-packages (from spacy<4->fastai) (2.4.5)\n",
            "Requirement already satisfied: spacy-loggers<2.0.0,>=1.0.0 in /usr/local/lib/python3.8/dist-packages (from spacy<4->fastai) (1.0.4)\n",
            "Requirement already satisfied: tqdm<5.0.0,>=4.38.0 in /usr/local/lib/python3.8/dist-packages (from spacy<4->fastai) (4.64.1)\n",
            "Requirement already satisfied: setuptools in /usr/local/lib/python3.8/dist-packages (from spacy<4->fastai) (57.4.0)\n",
            "Requirement already satisfied: idna<3,>=2.5 in /usr/local/lib/python3.8/dist-packages (from requests->fastai) (2.10)\n",
            "Requirement already satisfied: certifi>=2017.4.17 in /usr/local/lib/python3.8/dist-packages (from requests->fastai) (2022.12.7)\n",
            "Requirement already satisfied: chardet<5,>=3.0.2 in /usr/local/lib/python3.8/dist-packages (from requests->fastai) (4.0.0)\n",
            "Requirement already satisfied: urllib3<1.27,>=1.21.1 in /usr/local/lib/python3.8/dist-packages (from requests->fastai) (1.26.14)\n",
            "Requirement already satisfied: typing-extensions in /usr/local/lib/python3.8/dist-packages (from torch<1.14,>=1.7->fastai) (4.4.0)\n",
            "Requirement already satisfied: python-dateutil>=2.1 in /usr/local/lib/python3.8/dist-packages (from matplotlib->fastai) (2.8.2)\n",
            "Requirement already satisfied: pyparsing!=2.0.4,!=2.1.2,!=2.1.6,>=2.0.1 in /usr/local/lib/python3.8/dist-packages (from matplotlib->fastai) (3.0.9)\n",
            "Requirement already satisfied: cycler>=0.10 in /usr/local/lib/python3.8/dist-packages (from matplotlib->fastai) (0.11.0)\n",
            "Requirement already satisfied: kiwisolver>=1.0.1 in /usr/local/lib/python3.8/dist-packages (from matplotlib->fastai) (1.4.4)\n",
            "Requirement already satisfied: pytz>=2017.3 in /usr/local/lib/python3.8/dist-packages (from pandas->fastai) (2022.7.1)\n",
            "Requirement already satisfied: joblib>=0.11 in /usr/local/lib/python3.8/dist-packages (from scikit-learn->fastai) (1.2.0)\n",
            "Requirement already satisfied: threadpoolctl>=2.0.0 in /usr/local/lib/python3.8/dist-packages (from scikit-learn->fastai) (3.1.0)\n",
            "Requirement already satisfied: six>=1.5 in /usr/local/lib/python3.8/dist-packages (from python-dateutil>=2.1->matplotlib->fastai) (1.15.0)\n",
            "Requirement already satisfied: blis<0.8.0,>=0.7.8 in /usr/local/lib/python3.8/dist-packages (from thinc<8.2.0,>=8.1.0->spacy<4->fastai) (0.7.9)\n",
            "Requirement already satisfied: confection<1.0.0,>=0.0.1 in /usr/local/lib/python3.8/dist-packages (from thinc<8.2.0,>=8.1.0->spacy<4->fastai) (0.0.4)\n",
            "Requirement already satisfied: click<9.0.0,>=7.1.1 in /usr/local/lib/python3.8/dist-packages (from typer<0.8.0,>=0.3.0->spacy<4->fastai) (7.1.2)\n",
            "Requirement already satisfied: MarkupSafe>=0.23 in /usr/local/lib/python3.8/dist-packages (from jinja2->spacy<4->fastai) (2.0.1)\n"
          ]
        }
      ],
      "source": [
        "!pip install fastai\n",
        "from fastai.vision.all import *"
      ]
    },
    {
      "cell_type": "code",
      "execution_count": 256,
      "id": "b7bad45f-2938-4809-87b2-ca4177a7b094",
      "metadata": {
        "execution": {
          "iopub.execute_input": "2023-02-06T15:10:52.383935Z",
          "iopub.status.busy": "2023-02-06T15:10:52.383120Z",
          "iopub.status.idle": "2023-02-06T15:10:59.488975Z",
          "shell.execute_reply": "2023-02-06T15:10:59.488259Z",
          "shell.execute_reply.started": "2023-02-06T15:10:52.383902Z"
        },
        "colab": {
          "base_uri": "https://localhost:8080/"
        },
        "id": "b7bad45f-2938-4809-87b2-ca4177a7b094",
        "outputId": "6a6b527d-190c-4cf1-9d60-260d103f77a7"
      },
      "outputs": [
        {
          "output_type": "stream",
          "name": "stdout",
          "text": [
            "Looking in indexes: https://pypi.org/simple, https://us-python.pkg.dev/colab-wheels/public/simple/\n",
            "Requirement already satisfied: fastbook in /usr/local/lib/python3.8/dist-packages (0.0.29)\n",
            "Requirement already satisfied: sentencepiece in /usr/local/lib/python3.8/dist-packages (from fastbook) (0.1.97)\n",
            "Requirement already satisfied: packaging in /usr/local/lib/python3.8/dist-packages (from fastbook) (23.0)\n",
            "Requirement already satisfied: pandas in /usr/local/lib/python3.8/dist-packages (from fastbook) (1.3.5)\n",
            "Requirement already satisfied: datasets in /usr/local/lib/python3.8/dist-packages (from fastbook) (2.9.0)\n",
            "Requirement already satisfied: requests in /usr/local/lib/python3.8/dist-packages (from fastbook) (2.25.1)\n",
            "Requirement already satisfied: transformers in /usr/local/lib/python3.8/dist-packages (from fastbook) (4.26.1)\n",
            "Requirement already satisfied: fastai>=2.6 in /usr/local/lib/python3.8/dist-packages (from fastbook) (2.7.10)\n",
            "Requirement already satisfied: ipywidgets<8 in /usr/local/lib/python3.8/dist-packages (from fastbook) (7.7.1)\n",
            "Requirement already satisfied: graphviz in /usr/local/lib/python3.8/dist-packages (from fastbook) (0.10.1)\n",
            "Requirement already satisfied: pip in /usr/local/lib/python3.8/dist-packages (from fastbook) (22.0.4)\n",
            "Requirement already satisfied: pyyaml in /usr/local/lib/python3.8/dist-packages (from fastai>=2.6->fastbook) (6.0)\n",
            "Requirement already satisfied: torch<1.14,>=1.7 in /usr/local/lib/python3.8/dist-packages (from fastai>=2.6->fastbook) (1.13.1+cu116)\n",
            "Requirement already satisfied: pillow>6.0.0 in /usr/local/lib/python3.8/dist-packages (from fastai>=2.6->fastbook) (7.1.2)\n",
            "Requirement already satisfied: fastprogress>=0.2.4 in /usr/local/lib/python3.8/dist-packages (from fastai>=2.6->fastbook) (1.0.3)\n",
            "Requirement already satisfied: fastdownload<2,>=0.0.5 in /usr/local/lib/python3.8/dist-packages (from fastai>=2.6->fastbook) (0.0.7)\n",
            "Requirement already satisfied: spacy<4 in /usr/local/lib/python3.8/dist-packages (from fastai>=2.6->fastbook) (3.4.4)\n",
            "Requirement already satisfied: fastcore<1.6,>=1.4.5 in /usr/local/lib/python3.8/dist-packages (from fastai>=2.6->fastbook) (1.5.28)\n",
            "Requirement already satisfied: scikit-learn in /usr/local/lib/python3.8/dist-packages (from fastai>=2.6->fastbook) (1.0.2)\n",
            "Requirement already satisfied: scipy in /usr/local/lib/python3.8/dist-packages (from fastai>=2.6->fastbook) (1.7.3)\n",
            "Requirement already satisfied: torchvision>=0.8.2 in /usr/local/lib/python3.8/dist-packages (from fastai>=2.6->fastbook) (0.14.1+cu116)\n",
            "Requirement already satisfied: matplotlib in /usr/local/lib/python3.8/dist-packages (from fastai>=2.6->fastbook) (3.2.2)\n",
            "Requirement already satisfied: widgetsnbextension~=3.6.0 in /usr/local/lib/python3.8/dist-packages (from ipywidgets<8->fastbook) (3.6.1)\n",
            "Requirement already satisfied: ipython-genutils~=0.2.0 in /usr/local/lib/python3.8/dist-packages (from ipywidgets<8->fastbook) (0.2.0)\n",
            "Requirement already satisfied: ipykernel>=4.5.1 in /usr/local/lib/python3.8/dist-packages (from ipywidgets<8->fastbook) (5.3.4)\n",
            "Requirement already satisfied: jupyterlab-widgets>=1.0.0 in /usr/local/lib/python3.8/dist-packages (from ipywidgets<8->fastbook) (3.0.5)\n",
            "Requirement already satisfied: traitlets>=4.3.1 in /usr/local/lib/python3.8/dist-packages (from ipywidgets<8->fastbook) (5.7.1)\n",
            "Requirement already satisfied: ipython>=4.0.0 in /usr/local/lib/python3.8/dist-packages (from ipywidgets<8->fastbook) (7.9.0)\n",
            "Requirement already satisfied: pyarrow>=6.0.0 in /usr/local/lib/python3.8/dist-packages (from datasets->fastbook) (9.0.0)\n",
            "Requirement already satisfied: huggingface-hub<1.0.0,>=0.2.0 in /usr/local/lib/python3.8/dist-packages (from datasets->fastbook) (0.12.0)\n",
            "Requirement already satisfied: dill<0.3.7 in /usr/local/lib/python3.8/dist-packages (from datasets->fastbook) (0.3.6)\n",
            "Requirement already satisfied: tqdm>=4.62.1 in /usr/local/lib/python3.8/dist-packages (from datasets->fastbook) (4.64.1)\n",
            "Requirement already satisfied: fsspec[http]>=2021.11.1 in /usr/local/lib/python3.8/dist-packages (from datasets->fastbook) (2023.1.0)\n",
            "Requirement already satisfied: multiprocess in /usr/local/lib/python3.8/dist-packages (from datasets->fastbook) (0.70.14)\n",
            "Requirement already satisfied: numpy>=1.17 in /usr/local/lib/python3.8/dist-packages (from datasets->fastbook) (1.21.6)\n",
            "Requirement already satisfied: aiohttp in /usr/local/lib/python3.8/dist-packages (from datasets->fastbook) (3.8.3)\n",
            "Requirement already satisfied: xxhash in /usr/local/lib/python3.8/dist-packages (from datasets->fastbook) (3.2.0)\n",
            "Requirement already satisfied: responses<0.19 in /usr/local/lib/python3.8/dist-packages (from datasets->fastbook) (0.18.0)\n",
            "Requirement already satisfied: urllib3<1.27,>=1.21.1 in /usr/local/lib/python3.8/dist-packages (from requests->fastbook) (1.26.14)\n",
            "Requirement already satisfied: certifi>=2017.4.17 in /usr/local/lib/python3.8/dist-packages (from requests->fastbook) (2022.12.7)\n",
            "Requirement already satisfied: chardet<5,>=3.0.2 in /usr/local/lib/python3.8/dist-packages (from requests->fastbook) (4.0.0)\n",
            "Requirement already satisfied: idna<3,>=2.5 in /usr/local/lib/python3.8/dist-packages (from requests->fastbook) (2.10)\n",
            "Requirement already satisfied: python-dateutil>=2.7.3 in /usr/local/lib/python3.8/dist-packages (from pandas->fastbook) (2.8.2)\n",
            "Requirement already satisfied: pytz>=2017.3 in /usr/local/lib/python3.8/dist-packages (from pandas->fastbook) (2022.7.1)\n",
            "Requirement already satisfied: tokenizers!=0.11.3,<0.14,>=0.11.1 in /usr/local/lib/python3.8/dist-packages (from transformers->fastbook) (0.13.2)\n",
            "Requirement already satisfied: regex!=2019.12.17 in /usr/local/lib/python3.8/dist-packages (from transformers->fastbook) (2022.6.2)\n",
            "Requirement already satisfied: filelock in /usr/local/lib/python3.8/dist-packages (from transformers->fastbook) (3.9.0)\n",
            "Requirement already satisfied: async-timeout<5.0,>=4.0.0a3 in /usr/local/lib/python3.8/dist-packages (from aiohttp->datasets->fastbook) (4.0.2)\n",
            "Requirement already satisfied: yarl<2.0,>=1.0 in /usr/local/lib/python3.8/dist-packages (from aiohttp->datasets->fastbook) (1.8.2)\n",
            "Requirement already satisfied: aiosignal>=1.1.2 in /usr/local/lib/python3.8/dist-packages (from aiohttp->datasets->fastbook) (1.3.1)\n",
            "Requirement already satisfied: frozenlist>=1.1.1 in /usr/local/lib/python3.8/dist-packages (from aiohttp->datasets->fastbook) (1.3.3)\n",
            "Requirement already satisfied: charset-normalizer<3.0,>=2.0 in /usr/local/lib/python3.8/dist-packages (from aiohttp->datasets->fastbook) (2.1.1)\n",
            "Requirement already satisfied: multidict<7.0,>=4.5 in /usr/local/lib/python3.8/dist-packages (from aiohttp->datasets->fastbook) (6.0.4)\n",
            "Requirement already satisfied: attrs>=17.3.0 in /usr/local/lib/python3.8/dist-packages (from aiohttp->datasets->fastbook) (22.2.0)\n",
            "Requirement already satisfied: typing-extensions>=3.7.4.3 in /usr/local/lib/python3.8/dist-packages (from huggingface-hub<1.0.0,>=0.2.0->datasets->fastbook) (4.4.0)\n",
            "Requirement already satisfied: jupyter-client in /usr/local/lib/python3.8/dist-packages (from ipykernel>=4.5.1->ipywidgets<8->fastbook) (6.1.12)\n",
            "Requirement already satisfied: tornado>=4.2 in /usr/local/lib/python3.8/dist-packages (from ipykernel>=4.5.1->ipywidgets<8->fastbook) (6.0.4)\n",
            "Requirement already satisfied: setuptools>=18.5 in /usr/local/lib/python3.8/dist-packages (from ipython>=4.0.0->ipywidgets<8->fastbook) (57.4.0)\n",
            "Requirement already satisfied: pexpect in /usr/local/lib/python3.8/dist-packages (from ipython>=4.0.0->ipywidgets<8->fastbook) (4.8.0)\n",
            "Requirement already satisfied: backcall in /usr/local/lib/python3.8/dist-packages (from ipython>=4.0.0->ipywidgets<8->fastbook) (0.2.0)\n",
            "Requirement already satisfied: decorator in /usr/local/lib/python3.8/dist-packages (from ipython>=4.0.0->ipywidgets<8->fastbook) (4.4.2)\n",
            "Requirement already satisfied: pickleshare in /usr/local/lib/python3.8/dist-packages (from ipython>=4.0.0->ipywidgets<8->fastbook) (0.7.5)\n",
            "Requirement already satisfied: pygments in /usr/local/lib/python3.8/dist-packages (from ipython>=4.0.0->ipywidgets<8->fastbook) (2.6.1)\n",
            "Requirement already satisfied: jedi>=0.10 in /usr/local/lib/python3.8/dist-packages (from ipython>=4.0.0->ipywidgets<8->fastbook) (0.18.2)\n",
            "Requirement already satisfied: prompt-toolkit<2.1.0,>=2.0.0 in /usr/local/lib/python3.8/dist-packages (from ipython>=4.0.0->ipywidgets<8->fastbook) (2.0.10)\n",
            "Requirement already satisfied: six>=1.5 in /usr/local/lib/python3.8/dist-packages (from python-dateutil>=2.7.3->pandas->fastbook) (1.15.0)\n",
            "Requirement already satisfied: catalogue<2.1.0,>=2.0.6 in /usr/local/lib/python3.8/dist-packages (from spacy<4->fastai>=2.6->fastbook) (2.0.8)\n",
            "Requirement already satisfied: pydantic!=1.8,!=1.8.1,<1.11.0,>=1.7.4 in /usr/local/lib/python3.8/dist-packages (from spacy<4->fastai>=2.6->fastbook) (1.10.4)\n",
            "Requirement already satisfied: thinc<8.2.0,>=8.1.0 in /usr/local/lib/python3.8/dist-packages (from spacy<4->fastai>=2.6->fastbook) (8.1.7)\n",
            "Requirement already satisfied: jinja2 in /usr/local/lib/python3.8/dist-packages (from spacy<4->fastai>=2.6->fastbook) (2.11.3)\n",
            "Requirement already satisfied: typer<0.8.0,>=0.3.0 in /usr/local/lib/python3.8/dist-packages (from spacy<4->fastai>=2.6->fastbook) (0.7.0)\n",
            "Requirement already satisfied: preshed<3.1.0,>=3.0.2 in /usr/local/lib/python3.8/dist-packages (from spacy<4->fastai>=2.6->fastbook) (3.0.8)\n",
            "Requirement already satisfied: spacy-legacy<3.1.0,>=3.0.10 in /usr/local/lib/python3.8/dist-packages (from spacy<4->fastai>=2.6->fastbook) (3.0.12)\n",
            "Requirement already satisfied: murmurhash<1.1.0,>=0.28.0 in /usr/local/lib/python3.8/dist-packages (from spacy<4->fastai>=2.6->fastbook) (1.0.9)\n",
            "Requirement already satisfied: cymem<2.1.0,>=2.0.2 in /usr/local/lib/python3.8/dist-packages (from spacy<4->fastai>=2.6->fastbook) (2.0.7)\n",
            "Requirement already satisfied: smart-open<7.0.0,>=5.2.1 in /usr/local/lib/python3.8/dist-packages (from spacy<4->fastai>=2.6->fastbook) (6.3.0)\n",
            "Requirement already satisfied: langcodes<4.0.0,>=3.2.0 in /usr/local/lib/python3.8/dist-packages (from spacy<4->fastai>=2.6->fastbook) (3.3.0)\n",
            "Requirement already satisfied: pathy>=0.3.5 in /usr/local/lib/python3.8/dist-packages (from spacy<4->fastai>=2.6->fastbook) (0.10.1)\n",
            "Requirement already satisfied: wasabi<1.1.0,>=0.9.1 in /usr/local/lib/python3.8/dist-packages (from spacy<4->fastai>=2.6->fastbook) (0.10.1)\n",
            "Requirement already satisfied: spacy-loggers<2.0.0,>=1.0.0 in /usr/local/lib/python3.8/dist-packages (from spacy<4->fastai>=2.6->fastbook) (1.0.4)\n",
            "Requirement already satisfied: srsly<3.0.0,>=2.4.3 in /usr/local/lib/python3.8/dist-packages (from spacy<4->fastai>=2.6->fastbook) (2.4.5)\n",
            "Requirement already satisfied: notebook>=4.4.1 in /usr/local/lib/python3.8/dist-packages (from widgetsnbextension~=3.6.0->ipywidgets<8->fastbook) (5.7.16)\n",
            "Requirement already satisfied: cycler>=0.10 in /usr/local/lib/python3.8/dist-packages (from matplotlib->fastai>=2.6->fastbook) (0.11.0)\n",
            "Requirement already satisfied: pyparsing!=2.0.4,!=2.1.2,!=2.1.6,>=2.0.1 in /usr/local/lib/python3.8/dist-packages (from matplotlib->fastai>=2.6->fastbook) (3.0.9)\n",
            "Requirement already satisfied: kiwisolver>=1.0.1 in /usr/local/lib/python3.8/dist-packages (from matplotlib->fastai>=2.6->fastbook) (1.4.4)\n",
            "Requirement already satisfied: threadpoolctl>=2.0.0 in /usr/local/lib/python3.8/dist-packages (from scikit-learn->fastai>=2.6->fastbook) (3.1.0)\n",
            "Requirement already satisfied: joblib>=0.11 in /usr/local/lib/python3.8/dist-packages (from scikit-learn->fastai>=2.6->fastbook) (1.2.0)\n",
            "Requirement already satisfied: parso<0.9.0,>=0.8.0 in /usr/local/lib/python3.8/dist-packages (from jedi>=0.10->ipython>=4.0.0->ipywidgets<8->fastbook) (0.8.3)\n",
            "Requirement already satisfied: jupyter-core>=4.4.0 in /usr/local/lib/python3.8/dist-packages (from notebook>=4.4.1->widgetsnbextension~=3.6.0->ipywidgets<8->fastbook) (5.2.0)\n",
            "Requirement already satisfied: nbformat in /usr/local/lib/python3.8/dist-packages (from notebook>=4.4.1->widgetsnbextension~=3.6.0->ipywidgets<8->fastbook) (5.7.3)\n",
            "Requirement already satisfied: prometheus-client in /usr/local/lib/python3.8/dist-packages (from notebook>=4.4.1->widgetsnbextension~=3.6.0->ipywidgets<8->fastbook) (0.16.0)\n",
            "Requirement already satisfied: Send2Trash in /usr/local/lib/python3.8/dist-packages (from notebook>=4.4.1->widgetsnbextension~=3.6.0->ipywidgets<8->fastbook) (1.8.0)\n",
            "Requirement already satisfied: terminado>=0.8.1 in /usr/local/lib/python3.8/dist-packages (from notebook>=4.4.1->widgetsnbextension~=3.6.0->ipywidgets<8->fastbook) (0.13.3)\n",
            "Requirement already satisfied: nbconvert<6.0 in /usr/local/lib/python3.8/dist-packages (from notebook>=4.4.1->widgetsnbextension~=3.6.0->ipywidgets<8->fastbook) (5.6.1)\n",
            "Requirement already satisfied: pyzmq>=17 in /usr/local/lib/python3.8/dist-packages (from notebook>=4.4.1->widgetsnbextension~=3.6.0->ipywidgets<8->fastbook) (23.2.1)\n",
            "Requirement already satisfied: MarkupSafe>=0.23 in /usr/local/lib/python3.8/dist-packages (from jinja2->spacy<4->fastai>=2.6->fastbook) (2.0.1)\n",
            "Requirement already satisfied: wcwidth in /usr/local/lib/python3.8/dist-packages (from prompt-toolkit<2.1.0,>=2.0.0->ipython>=4.0.0->ipywidgets<8->fastbook) (0.2.6)\n",
            "Requirement already satisfied: confection<1.0.0,>=0.0.1 in /usr/local/lib/python3.8/dist-packages (from thinc<8.2.0,>=8.1.0->spacy<4->fastai>=2.6->fastbook) (0.0.4)\n",
            "Requirement already satisfied: blis<0.8.0,>=0.7.8 in /usr/local/lib/python3.8/dist-packages (from thinc<8.2.0,>=8.1.0->spacy<4->fastai>=2.6->fastbook) (0.7.9)\n",
            "Requirement already satisfied: click<9.0.0,>=7.1.1 in /usr/local/lib/python3.8/dist-packages (from typer<0.8.0,>=0.3.0->spacy<4->fastai>=2.6->fastbook) (7.1.2)\n",
            "Requirement already satisfied: ptyprocess>=0.5 in /usr/local/lib/python3.8/dist-packages (from pexpect->ipython>=4.0.0->ipywidgets<8->fastbook) (0.7.0)\n",
            "Requirement already satisfied: platformdirs>=2.5 in /usr/local/lib/python3.8/dist-packages (from jupyter-core>=4.4.0->notebook>=4.4.1->widgetsnbextension~=3.6.0->ipywidgets<8->fastbook) (3.0.0)\n",
            "Requirement already satisfied: testpath in /usr/local/lib/python3.8/dist-packages (from nbconvert<6.0->notebook>=4.4.1->widgetsnbextension~=3.6.0->ipywidgets<8->fastbook) (0.6.0)\n",
            "Requirement already satisfied: entrypoints>=0.2.2 in /usr/local/lib/python3.8/dist-packages (from nbconvert<6.0->notebook>=4.4.1->widgetsnbextension~=3.6.0->ipywidgets<8->fastbook) (0.4)\n",
            "Requirement already satisfied: mistune<2,>=0.8.1 in /usr/local/lib/python3.8/dist-packages (from nbconvert<6.0->notebook>=4.4.1->widgetsnbextension~=3.6.0->ipywidgets<8->fastbook) (0.8.4)\n",
            "Requirement already satisfied: defusedxml in /usr/local/lib/python3.8/dist-packages (from nbconvert<6.0->notebook>=4.4.1->widgetsnbextension~=3.6.0->ipywidgets<8->fastbook) (0.7.1)\n",
            "Requirement already satisfied: pandocfilters>=1.4.1 in /usr/local/lib/python3.8/dist-packages (from nbconvert<6.0->notebook>=4.4.1->widgetsnbextension~=3.6.0->ipywidgets<8->fastbook) (1.5.0)\n",
            "Requirement already satisfied: bleach in /usr/local/lib/python3.8/dist-packages (from nbconvert<6.0->notebook>=4.4.1->widgetsnbextension~=3.6.0->ipywidgets<8->fastbook) (6.0.0)\n",
            "Requirement already satisfied: fastjsonschema in /usr/local/lib/python3.8/dist-packages (from nbformat->notebook>=4.4.1->widgetsnbextension~=3.6.0->ipywidgets<8->fastbook) (2.16.2)\n",
            "Requirement already satisfied: jsonschema>=2.6 in /usr/local/lib/python3.8/dist-packages (from nbformat->notebook>=4.4.1->widgetsnbextension~=3.6.0->ipywidgets<8->fastbook) (4.3.3)\n",
            "Requirement already satisfied: pyrsistent!=0.17.0,!=0.17.1,!=0.17.2,>=0.14.0 in /usr/local/lib/python3.8/dist-packages (from jsonschema>=2.6->nbformat->notebook>=4.4.1->widgetsnbextension~=3.6.0->ipywidgets<8->fastbook) (0.19.3)\n",
            "Requirement already satisfied: importlib-resources>=1.4.0 in /usr/local/lib/python3.8/dist-packages (from jsonschema>=2.6->nbformat->notebook>=4.4.1->widgetsnbextension~=3.6.0->ipywidgets<8->fastbook) (5.10.2)\n",
            "Requirement already satisfied: webencodings in /usr/local/lib/python3.8/dist-packages (from bleach->nbconvert<6.0->notebook>=4.4.1->widgetsnbextension~=3.6.0->ipywidgets<8->fastbook) (0.5.1)\n",
            "Requirement already satisfied: zipp>=3.1.0 in /usr/local/lib/python3.8/dist-packages (from importlib-resources>=1.4.0->jsonschema>=2.6->nbformat->notebook>=4.4.1->widgetsnbextension~=3.6.0->ipywidgets<8->fastbook) (3.12.1)\n"
          ]
        }
      ],
      "source": [
        "!pip install fastbook\n",
        "from fastbook import *"
      ]
    },
    {
      "cell_type": "markdown",
      "id": "802a7a9b-ba34-443e-90ac-3abd04f519c3",
      "metadata": {
        "id": "802a7a9b-ba34-443e-90ac-3abd04f519c3"
      },
      "source": [
        "## 1. Load data\n",
        "Let's download the MNIST dataset."
      ]
    },
    {
      "cell_type": "code",
      "execution_count": 257,
      "id": "9956ca34-9052-4d11-843c-27eeb4c5888d",
      "metadata": {
        "execution": {
          "iopub.execute_input": "2023-02-06T15:11:50.399198Z",
          "iopub.status.busy": "2023-02-06T15:11:50.398763Z",
          "iopub.status.idle": "2023-02-06T15:12:08.421055Z",
          "shell.execute_reply": "2023-02-06T15:12:08.420045Z",
          "shell.execute_reply.started": "2023-02-06T15:11:50.399107Z"
        },
        "colab": {
          "base_uri": "https://localhost:8080/"
        },
        "id": "9956ca34-9052-4d11-843c-27eeb4c5888d",
        "outputId": "bbf96468-3080-41c8-a7c3-07640bb6e355"
      },
      "outputs": [
        {
          "output_type": "execute_result",
          "data": {
            "text/plain": [
              "(#10) [Path('/root/.fastai/data/mnist_png/training/7'),Path('/root/.fastai/data/mnist_png/training/4'),Path('/root/.fastai/data/mnist_png/training/1'),Path('/root/.fastai/data/mnist_png/training/9'),Path('/root/.fastai/data/mnist_png/training/8'),Path('/root/.fastai/data/mnist_png/training/2'),Path('/root/.fastai/data/mnist_png/training/3'),Path('/root/.fastai/data/mnist_png/training/6'),Path('/root/.fastai/data/mnist_png/training/5'),Path('/root/.fastai/data/mnist_png/training/0')]"
            ]
          },
          "metadata": {},
          "execution_count": 257
        }
      ],
      "source": [
        "path = untar_data('https://s3.amazonaws.com/fast-ai-imageclas/mnist_png.tgz')\n",
        "(path/'training').ls()"
      ]
    },
    {
      "cell_type": "code",
      "execution_count": 258,
      "id": "f065b212-1116-462b-8ae4-07b94b93024f",
      "metadata": {
        "execution": {
          "iopub.execute_input": "2023-02-06T15:12:13.135483Z",
          "iopub.status.busy": "2023-02-06T15:12:13.135073Z",
          "iopub.status.idle": "2023-02-06T15:12:14.003348Z",
          "shell.execute_reply": "2023-02-06T15:12:14.002614Z",
          "shell.execute_reply.started": "2023-02-06T15:12:13.135455Z"
        },
        "colab": {
          "base_uri": "https://localhost:8080/",
          "height": 45
        },
        "id": "f065b212-1116-462b-8ae4-07b94b93024f",
        "outputId": "dff9cd8a-309a-4775-d0a4-fc0f4e7460ad"
      },
      "outputs": [
        {
          "output_type": "execute_result",
          "data": {
            "text/plain": [
              "<PIL.PngImagePlugin.PngImageFile image mode=L size=28x28>"
            ],
            "image/png": "[encoded data removed]"
          },
          "metadata": {},
          "execution_count": 258
        }
      ],
      "source": [
        "digit_paths = [(path/'training'/f'{o}').ls().sorted() for o in range(0,10)]\n",
        "#Print a random 4\n",
        "im4_path = digit_paths[4][1]\n",
        "im4 = Image.open(im4_path)\n",
        "im4"
      ]
    },
    {
      "cell_type": "markdown",
      "id": "e1e280d0-e673-4934-8611-2726f7ad6fdc",
      "metadata": {
        "id": "e1e280d0-e673-4934-8611-2726f7ad6fdc"
      },
      "source": [
        "Let's turn the images into PyTorch tensors. "
      ]
    },
    {
      "cell_type": "code",
      "execution_count": 259,
      "id": "267141ce-6f49-462c-9f0f-7bc2c974d350",
      "metadata": {
        "execution": {
          "iopub.execute_input": "2023-02-06T15:12:16.584814Z",
          "iopub.status.busy": "2023-02-06T15:12:16.584326Z",
          "iopub.status.idle": "2023-02-06T15:12:35.597762Z",
          "shell.execute_reply": "2023-02-06T15:12:35.597135Z",
          "shell.execute_reply.started": "2023-02-06T15:12:16.584782Z"
        },
        "id": "267141ce-6f49-462c-9f0f-7bc2c974d350"
      },
      "outputs": [],
      "source": [
        "digit_tensors = [[tensor(Image.open(o)) for o in digit_paths[i]] for i in range(0,10)]"
      ]
    },
    {
      "cell_type": "markdown",
      "id": "77714665-adbd-4a51-b4db-e415b88db034",
      "metadata": {
        "id": "77714665-adbd-4a51-b4db-e415b88db034"
      },
      "source": [
        "Stack the list of digits into 10 separate tensors"
      ]
    },
    {
      "cell_type": "code",
      "execution_count": 260,
      "id": "40d2418d-7051-4092-9282-7e97cf1a25cb",
      "metadata": {
        "execution": {
          "iopub.execute_input": "2023-02-06T15:13:10.058165Z",
          "iopub.status.busy": "2023-02-06T15:13:10.057660Z",
          "iopub.status.idle": "2023-02-06T15:13:10.281413Z",
          "shell.execute_reply": "2023-02-06T15:13:10.280311Z",
          "shell.execute_reply.started": "2023-02-06T15:13:10.058119Z"
        },
        "id": "40d2418d-7051-4092-9282-7e97cf1a25cb"
      },
      "outputs": [],
      "source": [
        "stacked_digits = [torch.stack(digit_tensors[i]) for i in range(0,10)]"
      ]
    },
    {
      "cell_type": "code",
      "execution_count": 261,
      "id": "14799f19-9cec-40d2-a1e7-31b3898a6996",
      "metadata": {
        "execution": {
          "iopub.execute_input": "2023-02-06T15:13:17.912727Z",
          "iopub.status.busy": "2023-02-06T15:13:17.912166Z",
          "iopub.status.idle": "2023-02-06T15:13:17.919510Z",
          "shell.execute_reply": "2023-02-06T15:13:17.917435Z",
          "shell.execute_reply.started": "2023-02-06T15:13:17.912699Z"
        },
        "colab": {
          "base_uri": "https://localhost:8080/"
        },
        "id": "14799f19-9cec-40d2-a1e7-31b3898a6996",
        "outputId": "b7f6274e-b805-44f5-9090-b985f2549b88"
      },
      "outputs": [
        {
          "output_type": "execute_result",
          "data": {
            "text/plain": [
              "torch.Size([5842, 28, 28])"
            ]
          },
          "metadata": {},
          "execution_count": 261
        }
      ],
      "source": [
        "stacked_digits[4].size() "
      ]
    },
    {
      "cell_type": "markdown",
      "id": "3c2456c6-58b2-4388-a32a-0aee9db8e6f3",
      "metadata": {
        "id": "3c2456c6-58b2-4388-a32a-0aee9db8e6f3"
      },
      "source": [
        "To make sure that the pixel values are between 0 and 1 divide them by 255."
      ]
    },
    {
      "cell_type": "code",
      "execution_count": 262,
      "id": "750388e5-47be-4406-9e79-dd29ad09ebf0",
      "metadata": {
        "execution": {
          "iopub.execute_input": "2023-02-06T12:40:51.724266Z",
          "iopub.status.busy": "2023-02-06T12:40:51.723626Z",
          "iopub.status.idle": "2023-02-06T12:40:52.210051Z",
          "shell.execute_reply": "2023-02-06T12:40:52.207985Z",
          "shell.execute_reply.started": "2023-02-06T12:40:51.724237Z"
        },
        "id": "750388e5-47be-4406-9e79-dd29ad09ebf0"
      },
      "outputs": [],
      "source": [
        "scaled_digits = [stacked_digits[i].float()/255 for i in range(0,10)]"
      ]
    },
    {
      "cell_type": "code",
      "execution_count": 263,
      "id": "4214a1a7-ba7e-482d-aa4c-8925fe9848d4",
      "metadata": {
        "execution": {
          "iopub.status.busy": "2023-02-06T15:15:17.896601Z",
          "iopub.status.idle": "2023-02-06T15:15:17.896922Z",
          "shell.execute_reply": "2023-02-06T15:15:17.896787Z",
          "shell.execute_reply.started": "2023-02-06T15:15:17.896772Z"
        },
        "colab": {
          "base_uri": "https://localhost:8080/"
        },
        "id": "4214a1a7-ba7e-482d-aa4c-8925fe9848d4",
        "outputId": "66e20486-3e0a-4dfe-a8dd-838d41ea61f4"
      },
      "outputs": [
        {
          "output_type": "execute_result",
          "data": {
            "text/plain": [
              "torch.Size([5842, 28, 28])"
            ]
          },
          "metadata": {},
          "execution_count": 263
        }
      ],
      "source": [
        "scaled_digits[4].shape"
      ]
    },
    {
      "cell_type": "markdown",
      "id": "74af19d2-fe85-40af-8556-e6f2baf0974d",
      "metadata": {
        "id": "74af19d2-fe85-40af-8556-e6f2baf0974d"
      },
      "source": [
        "### Set up training\n",
        "1. Define the output, the training set, the test set and the validations set\n",
        "2. Define the classification and the loss function\n",
        "3. Define a metric for accuracy\n",
        "4. Pick an example digit"
      ]
    },
    {
      "cell_type": "code",
      "execution_count": 264,
      "id": "611312de-2f82-497a-9337-6f694b654f06",
      "metadata": {
        "execution": {
          "iopub.execute_input": "2023-02-06T12:40:59.511673Z",
          "iopub.status.busy": "2023-02-06T12:40:59.511267Z",
          "iopub.status.idle": "2023-02-06T12:40:59.758669Z",
          "shell.execute_reply": "2023-02-06T12:40:59.758042Z",
          "shell.execute_reply.started": "2023-02-06T12:40:59.511643Z"
        },
        "id": "611312de-2f82-497a-9337-6f694b654f06"
      },
      "outputs": [],
      "source": [
        "#1. The training set\n",
        "data_x = torch.cat([scaled_digits[i] for i in range(0,10)]).view(-1,28*28)\n",
        "data_x.shape\n",
        "#The outcomes\n",
        "#Define the output as a vector of length 10 with 1 if the image is of that indices digit, 0 otherwise\n",
        "tensor_id = torch.eye(10)\n",
        "data_y = torch.cat([tensor_id[i].repeat(len(scaled_digits[i]),1) for i in range(0,10)])\n",
        "\n",
        "dataset = list(zip(data_x, data_y))\n",
        "\n",
        "train_len = int(len(dataset)*0.7)\n",
        "test_len = int(len(dataset)*0.2)\n",
        "valid_len = int(len(dataset)) - train_len - test_len\n",
        "\n",
        "train, test, valid = torch.utils.data.random_split(dataset, lengths = [train_len, test_len, valid_len])\n",
        "train_x = torch.stack([train[i][0] for i in range(0,len(train))])\n",
        "train_y = torch.stack([train[i][1] for i in range(0,len(train))])\n",
        "\n",
        "test_x = torch.stack([test[i][0] for i in range(0,len(test))])\n",
        "test_y = torch.stack([test[i][1] for i in range(0,len(test))])\n",
        "\n",
        "valid_x = torch.stack([valid[i][0] for i in range(0,valid_len)])\n",
        "valid_y = torch.stack([valid[i][1] for i in range(0,valid_len)])"
      ]
    },
    {
      "cell_type": "code",
      "execution_count": 265,
      "id": "5eaf8e70-47d6-4b43-968b-27756b226d7d",
      "metadata": {
        "execution": {
          "iopub.execute_input": "2023-02-06T13:41:05.659184Z",
          "iopub.status.busy": "2023-02-06T13:41:05.658544Z",
          "iopub.status.idle": "2023-02-06T13:41:05.664164Z",
          "shell.execute_reply": "2023-02-06T13:41:05.663432Z",
          "shell.execute_reply.started": "2023-02-06T13:41:05.659148Z"
        },
        "id": "5eaf8e70-47d6-4b43-968b-27756b226d7d"
      },
      "outputs": [],
      "source": [
        "#2. The classification and the loss\n",
        "#The image should be classified as the index with the highest element\n",
        "#in the output, we can use the argmax() function for this\n",
        "\n",
        "def loss(targets, predictions):\n",
        "  return torch.sum((targets -predictions).square(), dim = 1).mean()\n",
        "\n",
        "#Cross entropy loss\n",
        "def cross_entropy_loss(targets, predictions):\n",
        "  return F.cross_entropy(targets, predictions)\n",
        "  #return torch.sum(targets*torch.log(predictions), dim = 1)\n"
      ]
    },
    {
      "cell_type": "code",
      "source": [
        "#3. Define accuracy\n",
        "def batch_accuracy(xb, yb):\n",
        "  correct_preds = (xb.argmax(dim = 1)) == (yb.argmax(dim = 1))\n",
        "  return correct_preds.float().mean()"
      ],
      "metadata": {
        "id": "eiAk0VPJ-PpE"
      },
      "id": "eiAk0VPJ-PpE",
      "execution_count": 266,
      "outputs": []
    },
    {
      "cell_type": "code",
      "execution_count": 267,
      "id": "a62089df-4209-450a-b8bc-03abeac8ee3e",
      "metadata": {
        "execution": {
          "iopub.execute_input": "2023-02-06T12:44:02.084658Z",
          "iopub.status.busy": "2023-02-06T12:44:02.083869Z",
          "iopub.status.idle": "2023-02-06T12:44:02.088548Z",
          "shell.execute_reply": "2023-02-06T12:44:02.087769Z",
          "shell.execute_reply.started": "2023-02-06T12:44:02.084628Z"
        },
        "id": "a62089df-4209-450a-b8bc-03abeac8ee3e"
      },
      "outputs": [],
      "source": [
        "#4. Pick an example digit\n",
        "example_digit = scaled_digits[4][1].view(-1,28*28)\n",
        "example_digit.shape\n",
        "example_dig_shaped =  scaled_digits[4][1]"
      ]
    },
    {
      "cell_type": "markdown",
      "id": "050ecd16-4bf2-4b58-bdf1-47e5fb148704",
      "metadata": {
        "id": "050ecd16-4bf2-4b58-bdf1-47e5fb148704"
      },
      "source": [
        "## 2. Build a neural net model all the way from matrices\n",
        "For the sake of simplicity I will use two layers with a sigmoid non-linarity. "
      ]
    },
    {
      "cell_type": "code",
      "execution_count": 268,
      "id": "396b7dd9-7f39-4740-815c-a2846dfaee10",
      "metadata": {
        "execution": {
          "iopub.execute_input": "2023-02-06T13:42:22.550756Z",
          "iopub.status.busy": "2023-02-06T13:42:22.550353Z",
          "iopub.status.idle": "2023-02-06T13:42:22.556677Z",
          "shell.execute_reply": "2023-02-06T13:42:22.555558Z",
          "shell.execute_reply.started": "2023-02-06T13:42:22.550724Z"
        },
        "id": "396b7dd9-7f39-4740-815c-a2846dfaee10"
      },
      "outputs": [],
      "source": [
        "#1. Initialize the parameters\n",
        "w = torch.randn(28*28,10).requires_grad_()\n",
        "b = torch.randn(10).requires_grad_()"
      ]
    },
    {
      "cell_type": "code",
      "execution_count": 269,
      "id": "b33cce68-409b-4411-a78f-91b362871eb3",
      "metadata": {
        "execution": {
          "iopub.execute_input": "2023-02-06T13:42:26.884007Z",
          "iopub.status.busy": "2023-02-06T13:42:26.883696Z",
          "iopub.status.idle": "2023-02-06T13:42:37.193764Z",
          "shell.execute_reply": "2023-02-06T13:42:37.192544Z",
          "shell.execute_reply.started": "2023-02-06T13:42:26.883986Z"
        },
        "id": "b33cce68-409b-4411-a78f-91b362871eb3"
      },
      "outputs": [],
      "source": [
        "#2. Calculate the predictions\n",
        "\n",
        "#Define the linear function (layer) \n",
        "def linear_layer(inp,w,b):\n",
        "    return (inp@w) + b\n",
        "\n",
        "#Prediction example\n",
        "pred_vector = linear_layer(example_digit, w,b)\n",
        "pred = pred_vector.argmax() \n",
        "\n",
        "#Calculate the prediction for all of train_x\n",
        "predictions_train_x = torch.stack([linear_layer(dig, w,b) for dig in train_x])"
      ]
    },
    {
      "cell_type": "code",
      "execution_count": 270,
      "id": "66566727-0579-4e6a-a388-4f11bfd3454b",
      "metadata": {
        "execution": {
          "iopub.execute_input": "2023-02-06T13:42:47.389858Z",
          "iopub.status.busy": "2023-02-06T13:42:47.389242Z",
          "iopub.status.idle": "2023-02-06T13:42:47.403797Z",
          "shell.execute_reply": "2023-02-06T13:42:47.401997Z",
          "shell.execute_reply.started": "2023-02-06T13:42:47.389829Z"
        },
        "colab": {
          "base_uri": "https://localhost:8080/"
        },
        "id": "66566727-0579-4e6a-a388-4f11bfd3454b",
        "outputId": "5e09e8f6-a169-4bdd-844c-38e21f3389eb"
      },
      "outputs": [
        {
          "output_type": "execute_result",
          "data": {
            "text/plain": [
              "tensor(996.7764, grad_fn=<MeanBackward0>)"
            ]
          },
          "metadata": {},
          "execution_count": 270
        }
      ],
      "source": [
        "#TODO: 3. Calculate the loss\n",
        "loss_1 = loss(predictions_train_x, train_y)  \n",
        "loss_1"
      ]
    },
    {
      "cell_type": "code",
      "execution_count": 271,
      "id": "b95c7ab3-7fab-4f33-a294-54078f0de6eb",
      "metadata": {
        "execution": {
          "iopub.execute_input": "2023-02-06T13:42:51.400008Z",
          "iopub.status.busy": "2023-02-06T13:42:51.399555Z",
          "iopub.status.idle": "2023-02-06T13:42:55.786818Z",
          "shell.execute_reply": "2023-02-06T13:42:55.785813Z",
          "shell.execute_reply.started": "2023-02-06T13:42:51.399971Z"
        },
        "colab": {
          "base_uri": "https://localhost:8080/"
        },
        "id": "b95c7ab3-7fab-4f33-a294-54078f0de6eb",
        "outputId": "f3020efe-6ca7-437e-ff4a-3ea24e5a5652"
      },
      "outputs": [
        {
          "output_type": "execute_result",
          "data": {
            "text/plain": [
              "tensor([ 13.7707,  13.6216,  12.7869,  18.3310,  12.4007, -13.6310,  -5.3897, -21.7068,   2.5706,  -4.1771])"
            ]
          },
          "metadata": {},
          "execution_count": 271
        }
      ],
      "source": [
        "#4. Calculate the gradients\n",
        "loss_1.backward()\n",
        "w.grad\n",
        "b.grad"
      ]
    },
    {
      "cell_type": "code",
      "execution_count": 272,
      "id": "3e77695d-0fcd-452b-8abf-511127c64790",
      "metadata": {
        "execution": {
          "iopub.execute_input": "2023-02-06T13:42:58.608418Z",
          "iopub.status.busy": "2023-02-06T13:42:58.607371Z",
          "iopub.status.idle": "2023-02-06T13:42:58.622166Z",
          "shell.execute_reply": "2023-02-06T13:42:58.619288Z",
          "shell.execute_reply.started": "2023-02-06T13:42:58.608372Z"
        },
        "id": "3e77695d-0fcd-452b-8abf-511127c64790"
      },
      "outputs": [],
      "source": [
        "#5. Step the weights\n",
        "#Pick learning rate\n",
        "lr = 1e-3\n",
        "w.data -= lr*w.grad.data\n",
        "b.data -= lr*b.grad.data\n",
        "w.grad = None\n",
        "b.grad = None"
      ]
    },
    {
      "cell_type": "code",
      "execution_count": 273,
      "id": "391134f7-659c-4c8b-8674-f4eb09a0e0b5",
      "metadata": {
        "execution": {
          "iopub.execute_input": "2023-02-06T13:43:03.216358Z",
          "iopub.status.busy": "2023-02-06T13:43:03.215547Z",
          "iopub.status.idle": "2023-02-06T13:43:12.822457Z",
          "shell.execute_reply": "2023-02-06T13:43:12.821486Z",
          "shell.execute_reply.started": "2023-02-06T13:43:03.216329Z"
        },
        "id": "391134f7-659c-4c8b-8674-f4eb09a0e0b5"
      },
      "outputs": [],
      "source": [
        "improved_predictions_train_x = torch.stack([linear_layer(dig, w,b) for dig in train_x])"
      ]
    },
    {
      "cell_type": "code",
      "execution_count": 274,
      "id": "bb5c6607-8217-42f2-af76-63c31a4a899f",
      "metadata": {
        "execution": {
          "iopub.execute_input": "2023-02-06T13:43:16.432415Z",
          "iopub.status.busy": "2023-02-06T13:43:16.432030Z",
          "iopub.status.idle": "2023-02-06T13:43:16.443523Z",
          "shell.execute_reply": "2023-02-06T13:43:16.442893Z",
          "shell.execute_reply.started": "2023-02-06T13:43:16.432389Z"
        },
        "colab": {
          "base_uri": "https://localhost:8080/"
        },
        "id": "bb5c6607-8217-42f2-af76-63c31a4a899f",
        "outputId": "7bf09888-8690-4bf8-bfa4-b1625e1ad856"
      },
      "outputs": [
        {
          "output_type": "execute_result",
          "data": {
            "text/plain": [
              "tensor(922.9205, grad_fn=<MeanBackward0>)"
            ]
          },
          "metadata": {},
          "execution_count": 274
        }
      ],
      "source": [
        "loss_2 = loss(improved_predictions_train_x, train_y)\n",
        "loss_2"
      ]
    },
    {
      "cell_type": "markdown",
      "source": [
        "Now let's put all of this together and train a model using matrix calculations"
      ],
      "metadata": {
        "id": "iNCRdqOX687f"
      },
      "id": "iNCRdqOX687f"
    },
    {
      "cell_type": "code",
      "execution_count": 275,
      "id": "40b7631b-3110-4849-9a27-96df2474ca43",
      "metadata": {
        "execution": {
          "iopub.execute_input": "2023-02-06T13:51:57.732399Z",
          "iopub.status.busy": "2023-02-06T13:51:57.731791Z",
          "iopub.status.idle": "2023-02-06T13:51:57.739847Z",
          "shell.execute_reply": "2023-02-06T13:51:57.738861Z",
          "shell.execute_reply.started": "2023-02-06T13:51:57.732369Z"
        },
        "id": "40b7631b-3110-4849-9a27-96df2474ca43"
      },
      "outputs": [],
      "source": [
        "#Let's put all of this together\n",
        "def initialize():\n",
        "    w = torch.randn(28*28,10).requires_grad_()\n",
        "    b = torch.randn(10).requires_grad_()\n",
        "    return w,b\n",
        "\n",
        "def step(w,b, lr):\n",
        "    predictions_train_x = torch.stack([linear_layer(dig, w,b) for dig in train_x])\n",
        "    loss_d = loss(predictions_train_x, train_y)\n",
        "    print(loss_d)\n",
        "    loss_d.backward()\n",
        "    w.data -= lr*w.grad.data\n",
        "    w.grad = None\n",
        "    b.data -= lr*b.grad.data\n",
        "    b.grad = None\n"
      ]
    },
    {
      "cell_type": "code",
      "execution_count": 276,
      "id": "02b088df-3dc7-4c8e-9f62-5af7bfc3e20c",
      "metadata": {
        "execution": {
          "iopub.execute_input": "2023-02-06T13:51:59.336499Z",
          "iopub.status.busy": "2023-02-06T13:51:59.335559Z",
          "iopub.status.idle": "2023-02-06T13:52:07.762425Z",
          "shell.execute_reply": "2023-02-06T13:52:07.760632Z",
          "shell.execute_reply.started": "2023-02-06T13:51:59.336470Z"
        },
        "colab": {
          "base_uri": "https://localhost:8080/"
        },
        "id": "02b088df-3dc7-4c8e-9f62-5af7bfc3e20c",
        "outputId": "0930bd06-1e76-4942-91e3-30838987264a"
      },
      "outputs": [
        {
          "output_type": "stream",
          "name": "stdout",
          "text": [
            "tensor(1109.4843, grad_fn=<MeanBackward0>)\n",
            "tensor(1010.5391, grad_fn=<MeanBackward0>)\n",
            "tensor(926.0790, grad_fn=<MeanBackward0>)\n",
            "tensor(853.9323, grad_fn=<MeanBackward0>)\n",
            "tensor(792.2540, grad_fn=<MeanBackward0>)\n",
            "tensor(739.4761, grad_fn=<MeanBackward0>)\n",
            "tensor(694.2659, grad_fn=<MeanBackward0>)\n",
            "tensor(655.4906, grad_fn=<MeanBackward0>)\n",
            "tensor(622.1879, grad_fn=<MeanBackward0>)\n",
            "tensor(593.5399, grad_fn=<MeanBackward0>)\n",
            "tensor([[ 12.0657,   2.7091,   4.9355,  -7.2724,  11.4998,  -3.0284,  -0.5546,   8.0484, -14.3384,  -9.1840]], grad_fn=<AddBackward0>)\n"
          ]
        }
      ],
      "source": [
        "w,b = initialize()\n",
        "lr = 1e-3\n",
        "for i in range(0,10):\n",
        "    step(w,b,lr)\n",
        "\n",
        "example_prediction = linear_layer(example_digit, w,b)\n",
        "print(example_prediction)"
      ]
    },
    {
      "cell_type": "code",
      "source": [
        "#Add a softmax function to normalize the output vetor. This is to obtain 'probabilities'\n",
        "def step_sig(w,b, lr):\n",
        "    predictions_train_x = torch.stack([torch.nn.functional.softmax(linear_layer(dig, w,b)) for dig in train_x])\n",
        "    loss_d = loss(predictions_train_x, train_y)\n",
        "    print(loss_d)\n",
        "    loss_d.backward()\n",
        "    w.data -= lr*w.grad.data\n",
        "    w.grad = None\n",
        "    b.data -= lr*b.grad.data\n",
        "    b.grad = None\n"
      ],
      "metadata": {
        "id": "xzUlVV4gW8Sm"
      },
      "id": "xzUlVV4gW8Sm",
      "execution_count": 277,
      "outputs": []
    },
    {
      "cell_type": "code",
      "source": [
        "#import pytorch as nn\n",
        "#torch.softmax(example_prediction, dim = 10)\n",
        "torch.nn.functional.softmax(example_prediction, dim = 1)"
      ],
      "metadata": {
        "colab": {
          "base_uri": "https://localhost:8080/"
        },
        "id": "U5-MDpJsZkDr",
        "outputId": "2e14286c-ce3d-4075-d16c-914a439927da"
      },
      "id": "U5-MDpJsZkDr",
      "execution_count": 278,
      "outputs": [
        {
          "output_type": "execute_result",
          "data": {
            "text/plain": [
              "tensor([[6.3021e-01, 5.4449e-05, 5.0455e-04, 2.5181e-09, 3.5788e-01, 1.7547e-07, 2.0824e-06, 1.1345e-02, 2.1494e-12, 3.7229e-10]], grad_fn=<SoftmaxBackward0>)"
            ]
          },
          "metadata": {},
          "execution_count": 278
        }
      ]
    },
    {
      "cell_type": "code",
      "source": [
        "w,b = initialize()\n",
        "lr = 0.1\n",
        "for i in range(0,10):\n",
        "    step_sig(w,b,lr)\n",
        "\n",
        "example_prediction = torch.nn.functional.softmax(linear_layer(example_digit, w,b))\n",
        "print(example_prediction)\n",
        "print(example_prediction.argmax())"
      ],
      "metadata": {
        "colab": {
          "base_uri": "https://localhost:8080/"
        },
        "id": "Cf8ZXwHIX6lP",
        "outputId": "ad627210-a861-4a6a-d088-dd9a8ae86292"
      },
      "id": "Cf8ZXwHIX6lP",
      "execution_count": 287,
      "outputs": [
        {
          "output_type": "stream",
          "name": "stderr",
          "text": [
            "<ipython-input-277-d77ed0369ab9>:3: UserWarning: Implicit dimension choice for softmax has been deprecated. Change the call to include dim=X as an argument.\n",
            "  predictions_train_x = torch.stack([torch.nn.functional.softmax(linear_layer(dig, w,b)) for dig in train_x])\n"
          ]
        },
        {
          "output_type": "stream",
          "name": "stdout",
          "text": [
            "tensor(1.6405, grad_fn=<MeanBackward0>)\n",
            "tensor(1.6400, grad_fn=<MeanBackward0>)\n",
            "tensor(1.6395, grad_fn=<MeanBackward0>)\n",
            "tensor(1.6389, grad_fn=<MeanBackward0>)\n",
            "tensor(1.6384, grad_fn=<MeanBackward0>)\n",
            "tensor(1.6379, grad_fn=<MeanBackward0>)\n",
            "tensor(1.6373, grad_fn=<MeanBackward0>)\n",
            "tensor(1.6368, grad_fn=<MeanBackward0>)\n",
            "tensor(1.6363, grad_fn=<MeanBackward0>)\n",
            "tensor(1.6357, grad_fn=<MeanBackward0>)\n",
            "tensor([[9.8051e-09, 2.1594e-07, 7.1730e-03, 6.1965e-10, 9.8852e-01, 1.6105e-07, 1.0146e-10, 7.6818e-14, 4.3062e-03, 2.2313e-09]], grad_fn=<SoftmaxBackward0>)\n",
            "tensor(4)\n"
          ]
        },
        {
          "output_type": "stream",
          "name": "stderr",
          "text": [
            "<ipython-input-287-1715ed3df380>:6: UserWarning: Implicit dimension choice for softmax has been deprecated. Change the call to include dim=X as an argument.\n",
            "  example_prediction = torch.nn.functional.softmax(linear_layer(example_digit, w,b))\n"
          ]
        }
      ]
    },
    {
      "cell_type": "code",
      "source": [
        "#Test \n",
        "predictions_test = torch.stack([torch.nn.functional.softmax(linear_layer(dig, w,b)) for dig in test_x])\n",
        "loss_test = loss(predictions_test, test_y)\n",
        "loss_test"
      ],
      "metadata": {
        "colab": {
          "base_uri": "https://localhost:8080/"
        },
        "id": "-BiZqdeNcQjE",
        "outputId": "bce71510-7a4b-4127-b13a-bb334cfcc213"
      },
      "id": "-BiZqdeNcQjE",
      "execution_count": 280,
      "outputs": [
        {
          "output_type": "stream",
          "name": "stderr",
          "text": [
            "<ipython-input-280-087942e95b11>:2: UserWarning: Implicit dimension choice for softmax has been deprecated. Change the call to include dim=X as an argument.\n",
            "  predictions_test = torch.stack([torch.nn.functional.softmax(linear_layer(dig, w,b)) for dig in test_x])\n"
          ]
        },
        {
          "output_type": "execute_result",
          "data": {
            "text/plain": [
              "tensor(1.6604, grad_fn=<MeanBackward0>)"
            ]
          },
          "metadata": {},
          "execution_count": 280
        }
      ]
    },
    {
      "cell_type": "code",
      "source": [
        "#Accuracy on the validation dataset\n",
        "predictions_valid =  torch.stack([torch.nn.functional.softmax(linear_layer(dig, w,b)) for dig in valid_x])\n",
        "valid_accuracy = batch_accuracy(predictions_valid, valid_y)\n",
        "valid_accuracy"
      ],
      "metadata": {
        "id": "l1s_4dty6HcY",
        "outputId": "4f4a2a65-2b82-40a0-876e-c24d59ce8133",
        "colab": {
          "base_uri": "https://localhost:8080/"
        }
      },
      "id": "l1s_4dty6HcY",
      "execution_count": 301,
      "outputs": [
        {
          "output_type": "stream",
          "name": "stderr",
          "text": [
            "<ipython-input-301-f9ef14669537>:2: UserWarning: Implicit dimension choice for softmax has been deprecated. Change the call to include dim=X as an argument.\n",
            "  predictions_valid =  torch.stack([torch.nn.functional.softmax(linear_layer(dig, w,b)) for dig in valid_x])\n"
          ]
        },
        {
          "output_type": "execute_result",
          "data": {
            "text/plain": [
              "tensor(0.0912)"
            ]
          },
          "metadata": {},
          "execution_count": 301
        }
      ]
    },
    {
      "cell_type": "markdown",
      "source": [
        "Not surprisingly, the accuracy on the validation set of this model is very low. The model consists of one linear layer with 10 neurons, which is too  little for this task. Also, here I am not using CrossEntropyLoss yet, but an intuitive extension of the loss for classifying two digits in Ch4 of the fastai book. "
      ],
      "metadata": {
        "id": "FxImVijD6zbG"
      },
      "id": "FxImVijD6zbG"
    },
    {
      "cell_type": "markdown",
      "id": "7d13164a-31b0-4852-930c-7e511d34da25",
      "metadata": {
        "id": "7d13164a-31b0-4852-930c-7e511d34da25"
      },
      "source": [
        "## 3. Build a neural net with PyTorch and fastai"
      ]
    },
    {
      "cell_type": "code",
      "source": [
        "#Load the data\n",
        "dl = DataLoader(train, batch_size = 256)\n",
        "valid_dl = DataLoader(test, batch_size=256)\n",
        "final_valid_dl = DataLoader(valid, batch_size = 256)\n",
        "dls = DataLoaders(dl,valid_dl)"
      ],
      "metadata": {
        "id": "yQgLBE3P4aA3"
      },
      "id": "yQgLBE3P4aA3",
      "execution_count": 296,
      "outputs": []
    },
    {
      "cell_type": "code",
      "source": [
        "#Set up the architecture\n",
        "neural_net  = nn.Sequential(\n",
        "    nn.Linear(28*28,60),\n",
        "    nn.ReLU(),\n",
        "    nn.Linear(60,10),\n",
        "    nn.Softmax(dim=1)\n",
        ")"
      ],
      "metadata": {
        "id": "wGwOJ_NJ34gs"
      },
      "id": "wGwOJ_NJ34gs",
      "execution_count": 297,
      "outputs": []
    },
    {
      "cell_type": "code",
      "source": [
        "learn = Learner(dls, neural_net, opt_func = SGD, loss_func = cross_entropy_loss, metrics = batch_accuracy)"
      ],
      "metadata": {
        "id": "8NPWMMYA5bOB"
      },
      "id": "8NPWMMYA5bOB",
      "execution_count": 298,
      "outputs": []
    },
    {
      "cell_type": "code",
      "source": [
        "learn.fit(10, lr = 0.01)"
      ],
      "metadata": {
        "colab": {
          "base_uri": "https://localhost:8080/",
          "height": 363
        },
        "id": "2lO6OnpY5_fc",
        "outputId": "2a844a05-52c8-4d84-bfab-60075cc0de74"
      },
      "id": "2lO6OnpY5_fc",
      "execution_count": 299,
      "outputs": [
        {
          "output_type": "display_data",
          "data": {
            "text/plain": [
              "<IPython.core.display.HTML object>"
            ],
            "text/html": [
              "\n",
              "<style>\n",
              "    /* Turns off some styling */\n",
              "    progress {\n",
              "        /* gets rid of default border in Firefox and Opera. */\n",
              "        border: none;\n",
              "        /* Needs to be in here for Safari polyfill so background images work as expected. */\n",
              "        background-size: auto;\n",
              "    }\n",
              "    progress:not([value]), progress:not([value])::-webkit-progress-bar {\n",
              "        background: repeating-linear-gradient(45deg, #7e7e7e, #7e7e7e 10px, #5c5c5c 10px, #5c5c5c 20px);\n",
              "    }\n",
              "    .progress-bar-interrupted, .progress-bar-interrupted::-webkit-progress-bar {\n",
              "        background: #F44336;\n",
              "    }\n",
              "</style>\n"
            ]
          },
          "metadata": {}
        },
        {
          "output_type": "display_data",
          "data": {
            "text/plain": [
              "<IPython.core.display.HTML object>"
            ],
            "text/html": [
              "<table border=\"1\" class=\"dataframe\">\n",
              "  <thead>\n",
              "    <tr style=\"text-align: left;\">\n",
              "      <th>epoch</th>\n",
              "      <th>train_loss</th>\n",
              "      <th>valid_loss</th>\n",
              "      <th>batch_accuracy</th>\n",
              "      <th>time</th>\n",
              "    </tr>\n",
              "  </thead>\n",
              "  <tbody>\n",
              "    <tr>\n",
              "      <td>0</td>\n",
              "      <td>2.301280</td>\n",
              "      <td>2.300797</td>\n",
              "      <td>0.121333</td>\n",
              "      <td>00:01</td>\n",
              "    </tr>\n",
              "    <tr>\n",
              "      <td>1</td>\n",
              "      <td>2.298327</td>\n",
              "      <td>2.297666</td>\n",
              "      <td>0.165000</td>\n",
              "      <td>00:01</td>\n",
              "    </tr>\n",
              "    <tr>\n",
              "      <td>2</td>\n",
              "      <td>2.294736</td>\n",
              "      <td>2.293916</td>\n",
              "      <td>0.186250</td>\n",
              "      <td>00:01</td>\n",
              "    </tr>\n",
              "    <tr>\n",
              "      <td>3</td>\n",
              "      <td>2.290127</td>\n",
              "      <td>2.289042</td>\n",
              "      <td>0.195333</td>\n",
              "      <td>00:01</td>\n",
              "    </tr>\n",
              "    <tr>\n",
              "      <td>4</td>\n",
              "      <td>2.283616</td>\n",
              "      <td>2.282061</td>\n",
              "      <td>0.188500</td>\n",
              "      <td>00:01</td>\n",
              "    </tr>\n",
              "    <tr>\n",
              "      <td>5</td>\n",
              "      <td>2.273690</td>\n",
              "      <td>2.271416</td>\n",
              "      <td>0.171917</td>\n",
              "      <td>00:01</td>\n",
              "    </tr>\n",
              "    <tr>\n",
              "      <td>6</td>\n",
              "      <td>2.258690</td>\n",
              "      <td>2.255920</td>\n",
              "      <td>0.172000</td>\n",
              "      <td>00:01</td>\n",
              "    </tr>\n",
              "    <tr>\n",
              "      <td>7</td>\n",
              "      <td>2.241222</td>\n",
              "      <td>2.239329</td>\n",
              "      <td>0.220000</td>\n",
              "      <td>00:01</td>\n",
              "    </tr>\n",
              "    <tr>\n",
              "      <td>8</td>\n",
              "      <td>2.224674</td>\n",
              "      <td>2.223378</td>\n",
              "      <td>0.280000</td>\n",
              "      <td>00:01</td>\n",
              "    </tr>\n",
              "    <tr>\n",
              "      <td>9</td>\n",
              "      <td>2.207715</td>\n",
              "      <td>2.206279</td>\n",
              "      <td>0.315417</td>\n",
              "      <td>00:01</td>\n",
              "    </tr>\n",
              "  </tbody>\n",
              "</table>"
            ]
          },
          "metadata": {}
        }
      ]
    },
    {
      "cell_type": "code",
      "source": [
        "#Classifying digits in hte validation set\n",
        "valid_preds, _ = learn.get_preds(dl = final_valid_dl)\n",
        "valid_preds_class = valid_preds.argmax(dim = 1)\n",
        "\n",
        "validation_accuracy = batch_accuracy(valid_preds, valid_y)\n",
        "validation_accuracy"
      ],
      "metadata": {
        "colab": {
          "base_uri": "https://localhost:8080/",
          "height": 34
        },
        "id": "fQOOz-dGK8gh",
        "outputId": "6f99145c-8cf8-4f00-afd7-245c96230d17"
      },
      "id": "fQOOz-dGK8gh",
      "execution_count": 291,
      "outputs": [
        {
          "output_type": "display_data",
          "data": {
            "text/plain": [
              "<IPython.core.display.HTML object>"
            ],
            "text/html": [
              "\n",
              "<style>\n",
              "    /* Turns off some styling */\n",
              "    progress {\n",
              "        /* gets rid of default border in Firefox and Opera. */\n",
              "        border: none;\n",
              "        /* Needs to be in here for Safari polyfill so background images work as expected. */\n",
              "        background-size: auto;\n",
              "    }\n",
              "    progress:not([value]), progress:not([value])::-webkit-progress-bar {\n",
              "        background: repeating-linear-gradient(45deg, #7e7e7e, #7e7e7e 10px, #5c5c5c 10px, #5c5c5c 20px);\n",
              "    }\n",
              "    .progress-bar-interrupted, .progress-bar-interrupted::-webkit-progress-bar {\n",
              "        background: #F44336;\n",
              "    }\n",
              "</style>\n"
            ]
          },
          "metadata": {}
        },
        {
          "output_type": "display_data",
          "data": {
            "text/plain": [
              "<IPython.core.display.HTML object>"
            ],
            "text/html": []
          },
          "metadata": {}
        },
        {
          "output_type": "execute_result",
          "data": {
            "text/plain": [
              "tensor(0.4640)"
            ]
          },
          "metadata": {},
          "execution_count": 291
        }
      ]
    },
    {
      "cell_type": "markdown",
      "source": [
        "Of course, the accuracy of this super simple neural net model is not very high. The goal of this notebook was to practice the steps of training a model both from scratch and using PyTorch, as well as to create a working base version of an MNIST classifier. \n"
      ],
      "metadata": {
        "id": "b5jGRT8KvK4k"
      },
      "id": "b5jGRT8KvK4k"
    }
  ],
  "metadata": {
    "kernelspec": {
      "display_name": "Python 3 (ipykernel)",
      "language": "python",
      "name": "python3"
    },
    "language_info": {
      "codemirror_mode": {
        "name": "ipython",
        "version": 3
      },
      "file_extension": ".py",
      "mimetype": "text/x-python",
      "name": "python",
      "nbconvert_exporter": "python",
      "pygments_lexer": "ipython3",
      "version": "3.9.13"
    },
    "colab": {
      "provenance": []
    }
  },
  "nbformat": 4,
  "nbformat_minor": 5
}